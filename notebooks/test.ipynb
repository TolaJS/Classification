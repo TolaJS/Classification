{
 "cells": [
  {
   "cell_type": "code",
   "execution_count": null,
   "id": "initial_id",
   "metadata": {
    "collapsed": true
   },
   "outputs": [],
   "source": [
    "import os\n",
    "import args\n",
    "import logging\n",
    "import torch\n",
    "from datetime import datetime\n",
    "from model import Classifier\n",
    "from uuid import uuid4\n",
    "from data import ProjectDataset\n",
    "from torch.utils.data import DataLoader\n",
    "from timm.utils import AverageMeter\n",
    "from utils import *\n",
    "from torch.utils.tensorboard import SummaryWriter"
   ]
  },
  {
   "cell_type": "code",
   "execution_count": null,
   "id": "320bf53b7c4b1927",
   "metadata": {},
   "outputs": [],
   "source": [
    "logging.basicConfig(level=logging.INFO)\n",
    "logger = logging.getLogger('Log')"
   ]
  },
  {
   "cell_type": "code",
   "execution_count": null,
   "id": "687e25de3d81d178",
   "metadata": {},
   "outputs": [],
   "source": [
    "def test(test_loader, model, criterion, device, eval_mode=True):\n",
    "    model.eval()\n",
    "    losses = AverageMeter()\n",
    "    metrics_tracker = MetricTracker(args.num_classes).to(device)\n",
    "    correct = 0\n",
    "    total = 0\n",
    "\n",
    "    with torch.no_grad():\n",
    "        for images, labels in test_loader:\n",
    "            images, labels = images.to(device), labels.to(device)\n",
    "\n",
    "            with torch.amp.autocast():\n",
    "                outputs = model(images)\n",
    "                loss = criterion(outputs, labels)\n",
    "\n",
    "            losses.update(loss.item(), images.size(0))\n",
    "            metrics_tracker.update(outputs, labels)\n",
    "            _, predicted = torch.max(outputs.data, 1)\n",
    "            total += labels.size(0)\n",
    "            correct += predicted.eq(labels.data).sum().item()\n",
    "\n",
    "    test_accuracy = 100 * (correct / total)\n",
    "    metrics = metrics_tracker.compute()\n",
    "    metrics_tracker.reset()\n",
    "    if eval_mode:\n",
    "        return losses.avg, test_accuracy\n",
    "    return test_accuracy, metrics"
   ]
  },
  {
   "cell_type": "code",
   "execution_count": null,
   "id": "ebb0e9164b1ea373",
   "metadata": {},
   "outputs": [],
   "source": [
    "train_data = ProjectDataset(mode='train', root_dir='dataset', seed=args.seed)\n",
    "train_loader = DataLoader(train_data, batch_size=args.batch_size, shuffle=True)\n",
    "train_len = len(train_loader.dataset)\n",
    "\n",
    "val_data = ProjectDataset(mode='val', root_dir='dataset', seed=args.seed)\n",
    "val_loader = DataLoader(val_data, batch_size=args.batch_size, shuffle=False)\n",
    "val_len = len(val_loader.dataset)\n",
    "\n",
    "test_data = ProjectDataset(mode='test', root_dir='dataset', seed=args.seed)\n",
    "test_loader = DataLoader(test_data, batch_size=args.batch_size, shuffle=False)\n",
    "test_len = len(test_loader.dataset)"
   ]
  },
  {
   "cell_type": "code",
   "execution_count": null,
   "id": "a9b4fb4626127ca3",
   "metadata": {},
   "outputs": [],
   "source": [
    "if torch.cuda.is_available():\n",
    "    device = torch.device(\"cuda\")\n",
    "elif torch.backends.mps.is_available():\n",
    "    device = torch.device(\"mps\")\n",
    "else:\n",
    "    device = torch.device(\"cpu\")\n",
    "\n",
    "model = Classifier(num_classes=args.num_classes)\n",
    "model.to(device)\n",
    "model_name = model.model.__class__.__name__\n",
    "\n",
    "if not os.path.exists(\"./checkpoint/\"):\n",
    "    os.mkdir(\"./checkpoint/\")"
   ]
  },
  {
   "cell_type": "code",
   "execution_count": null,
   "id": "26974f154c52fedb",
   "metadata": {},
   "outputs": [],
   "source": [
    "base_params = [  # Parameters in the model except FC layer\n",
    "        param for name, param in model.named_parameters() if \"fc\" not in str(name)\n",
    "    ]\n",
    "\n",
    "optimiser = torch.optim.Adam(\n",
    "    params=[\n",
    "        {\"params\": base_params},\n",
    "        {\"params\": model.model.fc.parameters(), \"lr\": 0.01},\n",
    "    ],\n",
    "    lr=args.lr,\n",
    "    weight_decay=args.weight_decay,\n",
    ")\n",
    "#   SCHEDULER\n",
    "scheduler = torch.optim.lr_scheduler.ExponentialLR(optimiser, gamma=args.gamma)\n",
    "#   LOSS\n",
    "criterion = torch.nn.CrossEntropyLoss()\n",
    "#   SCALER\n",
    "scaler = torch.cuda.amp.GradScaler()\n",
    "\n",
    "log_dir = (f\"logs/runs/\"\n",
    "           f\"{model.__class__.__name__}/\"\n",
    "           f\"lr_{args.lr}_bs_{args.batch_size}/\"\n",
    "           f\"{datetime.now().strftime('%Y-%m-%d_%H-%M-%S')}_\"\n",
    "           f\"{uuid4().hex[:6]}\")\n",
    "writer = SummaryWriter(log_dir)\n",
    "handler = logging.FileHandler(f'{log_dir}/log.txt')\n",
    "logger.addHandler(handler)"
   ]
  },
  {
   "cell_type": "code",
   "execution_count": null,
   "id": "45ae12116907c808",
   "metadata": {},
   "outputs": [],
   "source": [
    "if not args.eval_mode:\n",
    "    if args.model_path:\n",
    "        model.load_state_dict(torch.load(args.model_path))\n",
    "        model.to(device)\n",
    "    else:\n",
    "        raise ValueError(\"Model path not set in args.py\")\n",
    "    test_accuracy, test_metrics = test(test_loader, model, criterion, device, args.eval_mode)\n",
    "\n",
    "    print_summary(logger, model_name, train_len, val_len, test_len)\n",
    "    logger.info(\"=> Testing Results\")\n",
    "    logger.info(\"Top-1 Accuracy: {:.2f}%\".format(test_metrics['top1_acc']))\n",
    "    logger.info(\"Top-5 Accuracy: {:.2f}%\".format(test_metrics['top5_acc']))\n",
    "    logger.info(\"F1-Score: {:.2f}%\".format(test_metrics['f1']))\n",
    "handler.close()"
   ]
  }
 ],
 "metadata": {
  "kernelspec": {
   "display_name": "Python 3",
   "language": "python",
   "name": "python3"
  },
  "language_info": {
   "codemirror_mode": {
    "name": "ipython",
    "version": 2
   },
   "file_extension": ".py",
   "mimetype": "text/x-python",
   "name": "python",
   "nbconvert_exporter": "python",
   "pygments_lexer": "ipython2",
   "version": "2.7.6"
  }
 },
 "nbformat": 4,
 "nbformat_minor": 5
}
